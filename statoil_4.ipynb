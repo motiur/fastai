{
 "cells": [
  {
   "cell_type": "code",
   "execution_count": 14,
   "metadata": {
    "collapsed": true
   },
   "outputs": [],
   "source": [
    "# Put these at the top of every notebook, to get automatic reloading and inline plotting\n",
    "%reload_ext autoreload\n",
    "%autoreload 2\n",
    "%matplotlib inline"
   ]
  },
  {
   "cell_type": "code",
   "execution_count": 15,
   "metadata": {
    "collapsed": true
   },
   "outputs": [],
   "source": [
    "from fastai.imports import *\n",
    "from fastai.transforms import *\n",
    "from fastai.conv_learner import *\n",
    "from fastai.model import *\n",
    "from fastai.dataset import *\n",
    "from fastai.sgdr import *\n",
    "from fastai.plots import *"
   ]
  },
  {
   "cell_type": "code",
   "execution_count": 16,
   "metadata": {},
   "outputs": [
    {
     "name": "stdout",
     "output_type": "stream",
     "text": [
      "/home/ubuntu/data/statoil\n"
     ]
    }
   ],
   "source": [
    "PATH = \"/home/ubuntu/fastai/courses/dl1/data/statoil/\"\n",
    "%cd \"/home/ubuntu/fastai/courses/dl1/data/statoil/\""
   ]
  },
  {
   "cell_type": "code",
   "execution_count": 17,
   "metadata": {
    "collapsed": true
   },
   "outputs": [],
   "source": [
    "#Load train and test data\n",
    "train = pd.read_json(\"train.json\")\n",
    "test = pd.read_json(\"test.json\")\n"
   ]
  },
  {
   "cell_type": "code",
   "execution_count": 18,
   "metadata": {
    "collapsed": true
   },
   "outputs": [],
   "source": [
    "%rm -r  \"/home/ubuntu/fastai/courses/dl1/data/statoil/train/\"\n",
    "%rm -r  \"/home/ubuntu/fastai/courses/dl1/data/statoil/valid/\"\n",
    "%rm -r  \"/home/ubuntu/fastai/courses/dl1/data/statoil/test/\"\n"
   ]
  },
  {
   "cell_type": "code",
   "execution_count": 19,
   "metadata": {
    "collapsed": true
   },
   "outputs": [],
   "source": [
    "X_band_1=np.array([np.array(band).astype(np.float32).reshape(75, 75) for band in train[\"band_1\"]])\n",
    "X_band_2=np.array([np.array(band).astype(np.float32).reshape(75, 75) for band in train[\"band_2\"]])\n",
    "X_train = np.concatenate([0.3*X_band_1[:, :, :, np.newaxis], 0.6*X_band_2[:, :, :, np.newaxis],(0.1*(X_band_1+X_band_2)/2)[:, :, :, np.newaxis]], axis=-1)\n",
    "\n",
    "#X_train = [(sample / sample.max())*255 for sample in X_train]"
   ]
  },
  {
   "cell_type": "code",
   "execution_count": 20,
   "metadata": {
    "collapsed": true
   },
   "outputs": [],
   "source": [
    "X_band_test_1=np.array([np.array(band).astype(np.float32).reshape(75, 75) for band in test[\"band_1\"]])\n",
    "X_band_test_2=np.array([np.array(band).astype(np.float32).reshape(75, 75) for band in test[\"band_2\"]])\n",
    "X_test = np.concatenate([0.3*X_band_test_1[:, :, :, np.newaxis], 0.6*X_band_test_2[:, :, :, np.newaxis], (0.1*(X_band_test_1+X_band_test_2)/2)[:, :, :, np.newaxis]], axis=-1)"
   ]
  },
  {
   "cell_type": "code",
   "execution_count": 21,
   "metadata": {},
   "outputs": [
    {
     "name": "stdout",
     "output_type": "stream",
     "text": [
      "1604\n"
     ]
    },
    {
     "name": "stderr",
     "output_type": "stream",
     "text": [
      "/home/ubuntu/src/anaconda3/envs/fastai/lib/python3.6/site-packages/ipykernel_launcher.py:6: DeprecationWarning: \n",
      ".ix is deprecated. Please use\n",
      ".loc for label based indexing or\n",
      ".iloc for positional indexing\n",
      "\n",
      "See the documentation here:\n",
      "http://pandas.pydata.org/pandas-docs/stable/indexing.html#ix-indexer-is-deprecated\n",
      "  \n"
     ]
    }
   ],
   "source": [
    "%mkdir train\n",
    "import sys\n",
    "lenTrain = len(train)\n",
    "print(lenTrain)\n",
    "for i in range(0,lenTrain):\n",
    "    isIceberg = (train.ix[i]['is_iceberg'])\n",
    "    if(isIceberg == 1):scipy.misc.imsave('train/iceberg.'+str(i)+'.jpg', X_train[i])\n",
    "    else:scipy.misc.imsave('train/ship.'+str(i)+'.jpg', X_train[i])\n"
   ]
  },
  {
   "cell_type": "code",
   "execution_count": 22,
   "metadata": {},
   "outputs": [
    {
     "name": "stdout",
     "output_type": "stream",
     "text": [
      "/home/ubuntu/data/statoil/train\n"
     ]
    }
   ],
   "source": [
    "%mkdir valid\n",
    "%cd $PATH/train\n",
    "g = glob('*.jpg')\n",
    "shuf = np.random.permutation(g)\n",
    "for i in range(400): os.rename(shuf[i], PATH+'/valid/' + shuf[i])"
   ]
  },
  {
   "cell_type": "code",
   "execution_count": 23,
   "metadata": {},
   "outputs": [
    {
     "name": "stdout",
     "output_type": "stream",
     "text": [
      "/home/ubuntu/data/statoil/valid\n"
     ]
    }
   ],
   "source": [
    "%cd $PATH/valid\n",
    "%mkdir iceberg\n",
    "%mkdir ship\n",
    "%mv iceberg.*.jpg iceberg/\n",
    "%mv ship.*.jpg ship/"
   ]
  },
  {
   "cell_type": "code",
   "execution_count": 24,
   "metadata": {},
   "outputs": [
    {
     "name": "stdout",
     "output_type": "stream",
     "text": [
      "/home/ubuntu/data/statoil/train\n"
     ]
    }
   ],
   "source": [
    "%cd $PATH/train\n",
    "%mkdir iceberg\n",
    "%mkdir ship\n",
    "%mv iceberg.*.jpg iceberg/\n",
    "%mv ship.*.jpg ship/"
   ]
  },
  {
   "cell_type": "code",
   "execution_count": 25,
   "metadata": {},
   "outputs": [
    {
     "name": "stdout",
     "output_type": "stream",
     "text": [
      "/home/ubuntu/data/statoil\n",
      "8424\n"
     ]
    }
   ],
   "source": [
    "%cd $PATH\n",
    "%mkdir test\n",
    "import scipy.misc\n",
    "lenTest = len(test)\n",
    "print(lenTest)\n",
    "for i in range(lenTest):\n",
    "    scipy.misc.imsave('test/'+str(i)+'.jpg', X_test[i])\n"
   ]
  },
  {
   "cell_type": "code",
   "execution_count": 26,
   "metadata": {},
   "outputs": [
    {
     "name": "stdout",
     "output_type": "stream",
     "text": [
      "100%|██████████| 19/19 [00:11<00:00,  1.64it/s]\n",
      "100%|██████████| 7/7 [00:04<00:00,  1.60it/s]\n",
      "100%|██████████| 132/132 [01:01<00:00,  2.16it/s]\n"
     ]
    },
    {
     "data": {
      "application/vnd.jupyter.widget-view+json": {
       "model_id": "bd980198cd7741a7b59aa5c3fb8c06c4",
       "version_major": 2,
       "version_minor": 0
      },
      "text/plain": [
       "A Jupyter Widget"
      ]
     },
     "metadata": {},
     "output_type": "display_data"
    },
    {
     "name": "stdout",
     "output_type": "stream",
     "text": [
      "[ 0.       0.18163  0.51577  0.70982]                     \n",
      "[ 1.       0.23992  0.39035  0.78348]                     \n",
      "[ 2.       0.27395  0.36208  0.81473]                      \n",
      "\n",
      "(8424, 2)\n"
     ]
    }
   ],
   "source": [
    "arch=resnet50\n",
    "sz = 224\n",
    "#sz = 75\n",
    "data = ImageClassifierData.from_paths(PATH, bs = 64,tfms=tfms_from_model(arch, sz,aug_tfms=transforms_basic,max_zoom = 1.0), trn_name='train',val_name='valid', test_name = 'test',num_workers=8)\n",
    "learn = ConvLearner.pretrained(arch, data, precompute=True)\n",
    "learn.fit(1e-2, 3)\n",
    "\n",
    "test_preds = learn.predict(is_test = True)\n",
    "print(test_preds.shape)"
   ]
  },
  {
   "cell_type": "code",
   "execution_count": 27,
   "metadata": {},
   "outputs": [
    {
     "data": {
      "application/vnd.jupyter.widget-view+json": {
       "model_id": "547b380b675e4d66bbc80ce0471b5abf",
       "version_major": 2,
       "version_minor": 0
      },
      "text/plain": [
       "A Jupyter Widget"
      ]
     },
     "metadata": {},
     "output_type": "display_data"
    },
    {
     "name": "stdout",
     "output_type": "stream",
     "text": [
      " 84%|████████▍ | 16/19 [00:00<00:00, 17.70it/s, loss=0.981]\n",
      "                                                           \r"
     ]
    }
   ],
   "source": [
    "lrf=learn.lr_find()"
   ]
  },
  {
   "cell_type": "code",
   "execution_count": 28,
   "metadata": {},
   "outputs": [
    {
     "data": {
      "image/png": "[encoded data removed]",
      "text/plain": [
       "<matplotlib.figure.Figure at 0x7f41322ebf98>"
      ]
     },
     "metadata": {},
     "output_type": "display_data"
    }
   ],
   "source": [
    "learn.sched.plot_lr()"
   ]
  },
  {
   "cell_type": "code",
   "execution_count": 29,
   "metadata": {},
   "outputs": [
    {
     "data": {
      "image/png": "[encoded data removed]",
      "text/plain": [
       "<matplotlib.figure.Figure at 0x7f409c8ea908>"
      ]
     },
     "metadata": {},
     "output_type": "display_data"
    }
   ],
   "source": [
    "learn.sched.plot()"
   ]
  },
  {
   "cell_type": "markdown",
   "metadata": {},
   "source": [
    "## Differential learning and finetuning."
   ]
  },
  {
   "cell_type": "code",
   "execution_count": 30,
   "metadata": {},
   "outputs": [
    {
     "data": {
      "application/vnd.jupyter.widget-view+json": {
       "model_id": "14631df254264beabaf200a1e3b314f8",
       "version_major": 2,
       "version_minor": 0
      },
      "text/plain": [
       "A Jupyter Widget"
      ]
     },
     "metadata": {},
     "output_type": "display_data"
    },
    {
     "name": "stdout",
     "output_type": "stream",
     "text": [
      "[ 0.       0.12523  0.34212  0.83036]                      \n",
      "\n"
     ]
    }
   ],
   "source": [
    "learn.precompute=False\n",
    "learn.fit(1e-2, 1, cycle_len=1)"
   ]
  },
  {
   "cell_type": "code",
   "execution_count": 31,
   "metadata": {},
   "outputs": [
    {
     "data": {
      "text/plain": [
       "(0.82999999999999996, 0.34470728480323487)"
      ]
     },
     "execution_count": 31,
     "metadata": {},
     "output_type": "execute_result"
    }
   ],
   "source": [
    "#This give the validation accuracy and log loss\n",
    "from sklearn import metrics\n",
    "\n",
    "log_preds,y = learn.TTA()\n",
    "probs = np.exp(log_preds)\n",
    "accuracy(log_preds,y), metrics.log_loss(y, probs)\n"
   ]
  },
  {
   "cell_type": "code",
   "execution_count": 32,
   "metadata": {
    "collapsed": true
   },
   "outputs": [],
   "source": [
    "learn.unfreeze()\n",
    "lr = np.array([1e-2,3*1e-2,9*1e-2])"
   ]
  },
  {
   "cell_type": "code",
   "execution_count": 33,
   "metadata": {},
   "outputs": [
    {
     "data": {
      "application/vnd.jupyter.widget-view+json": {
       "model_id": "413d79e529a64b21ab864c55fe20b42d",
       "version_major": 2,
       "version_minor": 0
      },
      "text/plain": [
       "A Jupyter Widget"
      ]
     },
     "metadata": {},
     "output_type": "display_data"
    },
    {
     "name": "stdout",
     "output_type": "stream",
     "text": [
      "[ 0.       0.1997   2.26601  0.47321]                      \n",
      "[ 1.       0.30075  0.93976  0.84375]                      \n",
      "[ 2.       0.30337  0.36149  0.87723]                      \n",
      "[ 3.       0.27338  0.31531  0.86607]                      \n",
      "[ 4.       0.25706  0.37872  0.86607]                      \n",
      "[ 5.       0.26316  0.70089  0.86161]                      \n",
      "[ 6.       0.25496  0.33742  0.88839]                      \n",
      "[ 7.       0.21612  0.37581  0.86607]                      \n",
      "[ 8.       0.19597  0.34421  0.86607]                      \n",
      "[ 9.       0.15734  0.43098  0.87054]                      \n",
      "[ 10.        0.12898   0.3748    0.89732]                  \n",
      "[ 11.        0.1037    0.39933   0.89062]                  \n",
      "[ 12.        0.08092   0.39559   0.89062]                   \n",
      "\n"
     ]
    }
   ],
   "source": [
    "learn.fit(lr, 3, cycle_len=1, cycle_mult=3)"
   ]
  },
  {
   "cell_type": "code",
   "execution_count": 34,
   "metadata": {},
   "outputs": [],
   "source": [
    "#for file submission\n",
    "#Actual test files are used for submission\n",
    "test_preds = learn.TTA(is_test = True)\n",
    "submission = pd.DataFrame()\n",
    "submission['id'] = test['id']\n",
    "submission['is_iceberg'] = pd.DataFrame({'is_iceberg':list(np.exp(test_preds[0][:][:,0]))})\n",
    "submission.to_csv('sub.csv', index=False)\n"
   ]
  },
  {
   "cell_type": "code",
   "execution_count": null,
   "metadata": {
    "collapsed": true
   },
   "outputs": [],
   "source": []
  }
 ],
 "metadata": {
  "kernelspec": {
   "display_name": "Python 3",
   "language": "python",
   "name": "python3"
  },
  "language_info": {
   "codemirror_mode": {
    "name": "ipython",
    "version": 3
   },
   "file_extension": ".py",
   "mimetype": "text/x-python",
   "name": "python",
   "nbconvert_exporter": "python",
   "pygments_lexer": "ipython3",
   "version": "3.6.3"
  }
 },
 "nbformat": 4,
 "nbformat_minor": 2
}
