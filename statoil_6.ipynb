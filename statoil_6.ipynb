{
 "cells": [
  {
   "cell_type": "code",
   "execution_count": 1,
   "metadata": {
    "collapsed": true
   },
   "outputs": [],
   "source": [
    "#This goes from size 4 to size 128 images\n",
    "# Put these at the top of every notebook, to get automatic reloading and inline plotting\n",
    "%reload_ext autoreload\n",
    "%autoreload 2\n",
    "%matplotlib inline"
   ]
  },
  {
   "cell_type": "code",
   "execution_count": 2,
   "metadata": {
    "collapsed": true
   },
   "outputs": [],
   "source": [
    "from fastai.imports import *\n",
    "from fastai.transforms import *\n",
    "from fastai.conv_learner import *\n",
    "from fastai.model import *\n",
    "from fastai.dataset import *\n",
    "from fastai.sgdr import *\n",
    "from fastai.plots import *"
   ]
  },
  {
   "cell_type": "code",
   "execution_count": 3,
   "metadata": {},
   "outputs": [
    {
     "name": "stdout",
     "output_type": "stream",
     "text": [
      "/home/ubuntu/data/statoil\n"
     ]
    }
   ],
   "source": [
    "PATH = \"/home/ubuntu/fastai/courses/dl1/data/statoil/\"\n",
    "%cd \"/home/ubuntu/fastai/courses/dl1/data/statoil/\""
   ]
  },
  {
   "cell_type": "code",
   "execution_count": 4,
   "metadata": {
    "collapsed": true
   },
   "outputs": [],
   "source": [
    "#Load train and test data\n",
    "train = pd.read_json(\"train.json\")\n",
    "test = pd.read_json(\"test.json\")\n"
   ]
  },
  {
   "cell_type": "code",
   "execution_count": 5,
   "metadata": {
    "collapsed": true
   },
   "outputs": [],
   "source": [
    "%rm -r  \"/home/ubuntu/fastai/courses/dl1/data/statoil/train/\"\n",
    "%rm -r  \"/home/ubuntu/fastai/courses/dl1/data/statoil/valid/\"\n",
    "%rm -r  \"/home/ubuntu/fastai/courses/dl1/data/statoil/test/\"\n",
    "%rm -r  \"/home/ubuntu/fastai/courses/dl1/data/statoil/tmp/\"\n"
   ]
  },
  {
   "cell_type": "code",
   "execution_count": 6,
   "metadata": {
    "collapsed": true
   },
   "outputs": [],
   "source": [
    "def color_composite(data):\n",
    "    rgb_arrays = []\n",
    "    for i, row in data.iterrows():\n",
    "        band_1 = np.array(row['band_1']).reshape(75, 75)\n",
    "        band_2 = np.array(row['band_2']).reshape(75, 75)\n",
    "        band_3 = band_1 / band_2\n",
    "\n",
    "        r = (band_1 + abs(band_1.min())) / np.max((band_1 + abs(band_1.min())))\n",
    "        g = (band_2 + abs(band_2.min())) / np.max((band_2 + abs(band_2.min())))\n",
    "        b = (band_3 + abs(band_3.min())) / np.max((band_3 + abs(band_3.min())))\n",
    "\n",
    "        rgb = np.dstack((r, g, b))\n",
    "        rgb_arrays.append(rgb)\n",
    "    return np.array(rgb_arrays)"
   ]
  },
  {
   "cell_type": "code",
   "execution_count": 7,
   "metadata": {
    "collapsed": true
   },
   "outputs": [],
   "source": [
    "X_train = color_composite(train)\n",
    "X_test = color_composite(test)"
   ]
  },
  {
   "cell_type": "code",
   "execution_count": 8,
   "metadata": {},
   "outputs": [
    {
     "name": "stdout",
     "output_type": "stream",
     "text": [
      "1604\n"
     ]
    },
    {
     "name": "stderr",
     "output_type": "stream",
     "text": [
      "/home/ubuntu/src/anaconda3/envs/fastai/lib/python3.6/site-packages/ipykernel_launcher.py:6: DeprecationWarning: \n",
      ".ix is deprecated. Please use\n",
      ".loc for label based indexing or\n",
      ".iloc for positional indexing\n",
      "\n",
      "See the documentation here:\n",
      "http://pandas.pydata.org/pandas-docs/stable/indexing.html#ix-indexer-is-deprecated\n",
      "  \n"
     ]
    }
   ],
   "source": [
    "%mkdir train\n",
    "import sys\n",
    "lenTrain = len(train)\n",
    "print(lenTrain)\n",
    "for i in range(0,lenTrain):\n",
    "    isIceberg = (train.ix[i]['is_iceberg'])\n",
    "    if(isIceberg == 1):scipy.misc.imsave('train/iceberg.'+str(i)+'.png', X_train[i])\n",
    "    else:scipy.misc.imsave('train/ship.'+str(i)+'.png', X_train[i])\n"
   ]
  },
  {
   "cell_type": "code",
   "execution_count": 9,
   "metadata": {},
   "outputs": [
    {
     "name": "stdout",
     "output_type": "stream",
     "text": [
      "/home/ubuntu/data/statoil/train\n"
     ]
    }
   ],
   "source": [
    "%mkdir valid\n",
    "%cd $PATH/train\n",
    "g = glob('*.png')\n",
    "shuf = np.random.permutation(g)\n",
    "for i in range(500): os.rename(shuf[i], PATH+'/valid/' + shuf[i])"
   ]
  },
  {
   "cell_type": "code",
   "execution_count": 10,
   "metadata": {},
   "outputs": [
    {
     "name": "stdout",
     "output_type": "stream",
     "text": [
      "/home/ubuntu/data/statoil/valid\n"
     ]
    }
   ],
   "source": [
    "%cd $PATH/valid\n",
    "%mkdir iceberg\n",
    "%mkdir ship\n",
    "%mv iceberg.*.png iceberg/\n",
    "%mv ship.*.png ship/"
   ]
  },
  {
   "cell_type": "code",
   "execution_count": 11,
   "metadata": {},
   "outputs": [
    {
     "name": "stdout",
     "output_type": "stream",
     "text": [
      "/home/ubuntu/data/statoil/train\n"
     ]
    }
   ],
   "source": [
    "%cd $PATH/train\n",
    "%mkdir iceberg\n",
    "%mkdir ship\n",
    "%mv iceberg.*.png iceberg/\n",
    "%mv ship.*.png ship/"
   ]
  },
  {
   "cell_type": "code",
   "execution_count": 12,
   "metadata": {},
   "outputs": [
    {
     "name": "stdout",
     "output_type": "stream",
     "text": [
      "/home/ubuntu/data/statoil\n",
      "8424\n"
     ]
    }
   ],
   "source": [
    "%cd $PATH\n",
    "%mkdir test\n",
    "import scipy.misc\n",
    "lenTest = len(test)\n",
    "print(lenTest)\n",
    "for i in range(lenTest):\n",
    "    scipy.misc.imsave('test/'+str(i)+'.png', X_test[i])\n"
   ]
  },
  {
   "cell_type": "code",
   "execution_count": 13,
   "metadata": {
    "collapsed": true
   },
   "outputs": [],
   "source": [
    "f_model = resnet18\n",
    "bs = 32"
   ]
  },
  {
   "cell_type": "code",
   "execution_count": 14,
   "metadata": {
    "collapsed": true
   },
   "outputs": [],
   "source": [
    "def get_data(sz, bs):\n",
    "    tfms = tfms_from_model(f_model, sz, aug_tfms=transforms_top_down, max_zoom=1.00)\n",
    "    data = ImageClassifierData.from_paths(PATH, test_name = 'test', bs = bs,\n",
    "                                          tfms = tfms)\n",
    "    return data"
   ]
  },
  {
   "cell_type": "code",
   "execution_count": 15,
   "metadata": {
    "collapsed": true
   },
   "outputs": [],
   "source": [
    "sz=4\n"
   ]
  },
  {
   "cell_type": "code",
   "execution_count": 16,
   "metadata": {
    "collapsed": true
   },
   "outputs": [],
   "source": [
    "data = get_data(sz,bs)\n",
    "learn = ConvLearner.pretrained(f_model, data)"
   ]
  },
  {
   "cell_type": "code",
   "execution_count": 17,
   "metadata": {},
   "outputs": [
    {
     "data": {
      "application/vnd.jupyter.widget-view+json": {
       "model_id": "3659da38b228442ca1539fda814306d6",
       "version_major": 2,
       "version_minor": 0
      },
      "text/plain": [
       "A Jupyter Widget"
      ]
     },
     "metadata": {},
     "output_type": "display_data"
    },
    {
     "name": "stdout",
     "output_type": "stream",
     "text": [
      " 91%|█████████▏| 32/35 [00:03<00:00,  9.62it/s, loss=3.47] \n",
      "                                                          \r"
     ]
    },
    {
     "data": {
      "image/png": "[encoded data removed]",
      "text/plain": [
       "<matplotlib.figure.Figure at 0x7f87bb2e6fd0>"
      ]
     },
     "metadata": {},
     "output_type": "display_data"
    }
   ],
   "source": [
    "lrf=learn.lr_find()\n",
    "learn.sched.plot()"
   ]
  },
  {
   "cell_type": "code",
   "execution_count": 18,
   "metadata": {
    "collapsed": true
   },
   "outputs": [],
   "source": [
    "lr = 0.003"
   ]
  },
  {
   "cell_type": "code",
   "execution_count": 19,
   "metadata": {},
   "outputs": [
    {
     "data": {
      "application/vnd.jupyter.widget-view+json": {
       "model_id": "9adbe7898f5d40b78d6b8efc6c6a8ffe",
       "version_major": 2,
       "version_minor": 0
      },
      "text/plain": [
       "A Jupyter Widget"
      ]
     },
     "metadata": {},
     "output_type": "display_data"
    },
    {
     "name": "stdout",
     "output_type": "stream",
     "text": [
      "[ 0.       0.37577  0.73196  0.58711]                      \n",
      "[ 1.       0.5117   0.58678  0.725  ]                      \n",
      "[ 2.       0.56026  0.54504  0.69297]                      \n",
      "[ 3.       0.5703   0.56342  0.68516]                      \n",
      "[ 4.       0.59117  0.56568  0.66875]                      \n",
      "[ 5.       0.59354  0.54781  0.69023]                      \n",
      "[ 6.       0.58083  0.5413   0.68789]                      \n",
      "[ 7.       0.58805  0.54306  0.6832 ]                      \n",
      "[ 8.       0.57747  0.562    0.68437]                      \n",
      "[ 9.       0.56759  0.56321  0.67852]                      \n",
      "[ 10.        0.57127   0.54998   0.69023]                  \n",
      "[ 11.        0.55747   0.56409   0.67852]                  \n",
      "[ 12.        0.56293   0.552     0.69023]                  \n",
      "\n"
     ]
    }
   ],
   "source": [
    "learn.fit(lr, 3, cycle_len=1, cycle_mult=3)"
   ]
  },
  {
   "cell_type": "code",
   "execution_count": 20,
   "metadata": {
    "collapsed": true
   },
   "outputs": [],
   "source": [
    "lrs = np.array([lr/9,lr/3,lr])"
   ]
  },
  {
   "cell_type": "code",
   "execution_count": 21,
   "metadata": {},
   "outputs": [
    {
     "data": {
      "application/vnd.jupyter.widget-view+json": {
       "model_id": "9d7f53145a9847e2ae1b13f5f2247989",
       "version_major": 2,
       "version_minor": 0
      },
      "text/plain": [
       "A Jupyter Widget"
      ]
     },
     "metadata": {},
     "output_type": "display_data"
    },
    {
     "name": "stdout",
     "output_type": "stream",
     "text": [
      "[ 0.       0.3556   0.64812  0.62422]                      \n",
      "[ 1.       0.50789  0.59615  0.62578]                      \n",
      "[ 2.       0.57143  0.60322  0.64727]                      \n",
      "[ 3.       0.59273  0.64463  0.67266]                      \n",
      "[ 4.       0.61053  0.59467  0.68164]                      \n",
      "[ 5.       0.59766  0.59082  0.69531]                      \n",
      "[ 6.       0.5878   0.60411  0.67969]                      \n",
      "\n"
     ]
    }
   ],
   "source": [
    "learn.unfreeze()\n",
    "learn.fit(lrs, 3, cycle_len=1, cycle_mult=2)\n",
    "learn.save(f'{sz}')"
   ]
  },
  {
   "cell_type": "code",
   "execution_count": 22,
   "metadata": {},
   "outputs": [
    {
     "data": {
      "image/png": "[encoded data removed]",
      "text/plain": [
       "<matplotlib.figure.Figure at 0x7f876761e518>"
      ]
     },
     "metadata": {},
     "output_type": "display_data"
    }
   ],
   "source": [
    "learn.sched.plot_loss()"
   ]
  },
  {
   "cell_type": "code",
   "execution_count": 23,
   "metadata": {
    "collapsed": true
   },
   "outputs": [],
   "source": [
    "sz=8"
   ]
  },
  {
   "cell_type": "code",
   "execution_count": 24,
   "metadata": {},
   "outputs": [
    {
     "name": "stdout",
     "output_type": "stream",
     "text": [
      "100%|██████████| 35/35 [00:01<00:00, 19.68it/s]\n",
      "100%|██████████| 16/16 [00:01<00:00, 10.69it/s]\n",
      "100%|██████████| 264/264 [00:04<00:00, 53.24it/s]\n"
     ]
    },
    {
     "data": {
      "application/vnd.jupyter.widget-view+json": {
       "model_id": "1d7d4c44e51648eeae7da56c30028fc0",
       "version_major": 2,
       "version_minor": 0
      },
      "text/plain": [
       "A Jupyter Widget"
      ]
     },
     "metadata": {},
     "output_type": "display_data"
    },
    {
     "name": "stdout",
     "output_type": "stream",
     "text": [
      "[ 0.       0.328    0.57337  0.68555]                      \n",
      "[ 1.       0.48211  0.64685  0.67539]                      \n",
      "[ 2.       0.5442   1.17217  0.67148]                      \n",
      "[ 3.       0.56494  1.32271  0.67734]                      \n",
      "[ 4.       0.5867   2.12964  0.68008]                      \n",
      "[ 5.       0.59666  2.07665  0.65391]                      \n",
      "[ 6.       0.59404  1.82382  0.6668 ]                      \n",
      "[ 7.       0.60368  1.90457  0.68906]                      \n",
      "[ 8.       0.59952  1.49738  0.67773]                      \n",
      "[ 9.       0.59076  1.69106  0.66367]                      \n",
      "[ 10.        0.59102   1.7011    0.67422]                  \n",
      "[ 11.        0.5755    1.89632   0.66523]                  \n",
      "[ 12.        0.57067   1.37925   0.67812]                  \n",
      "\n"
     ]
    }
   ],
   "source": [
    "learn.set_data(get_data(sz,bs))\n",
    "learn.freeze()\n",
    "learn.fit(lr, 3, cycle_len=1, cycle_mult=3)"
   ]
  },
  {
   "cell_type": "code",
   "execution_count": 25,
   "metadata": {},
   "outputs": [
    {
     "data": {
      "application/vnd.jupyter.widget-view+json": {
       "model_id": "c05bb8382d044c108768880a1f9c2fc1",
       "version_major": 2,
       "version_minor": 0
      },
      "text/plain": [
       "A Jupyter Widget"
      ]
     },
     "metadata": {},
     "output_type": "display_data"
    },
    {
     "name": "stdout",
     "output_type": "stream",
     "text": [
      "[ 0.       0.32752  0.62111  0.65156]                      \n",
      "[ 1.       0.48072  0.60005  0.63633]                      \n",
      "[ 2.       0.54609  0.60051  0.64609]                      \n",
      "[ 3.       0.56188  0.58096  0.66719]                      \n",
      "[ 4.       0.57743  0.56809  0.6793 ]                      \n",
      "[ 5.       0.58447  0.58312  0.67578]                      \n",
      "[ 6.       0.56829  0.58399  0.67383]                      \n",
      "\n"
     ]
    }
   ],
   "source": [
    "learn.unfreeze()\n",
    "learn.fit(lrs, 3, cycle_len=1, cycle_mult=2)\n",
    "learn.save(f'{sz}')\n"
   ]
  },
  {
   "cell_type": "code",
   "execution_count": 26,
   "metadata": {
    "collapsed": true
   },
   "outputs": [],
   "source": [
    "##\n",
    "sz=16"
   ]
  },
  {
   "cell_type": "code",
   "execution_count": 27,
   "metadata": {},
   "outputs": [
    {
     "name": "stdout",
     "output_type": "stream",
     "text": [
      "100%|██████████| 35/35 [00:01<00:00, 20.18it/s]\n",
      "100%|██████████| 16/16 [00:01<00:00, 11.20it/s]\n",
      "100%|██████████| 264/264 [00:04<00:00, 53.57it/s]\n"
     ]
    },
    {
     "data": {
      "application/vnd.jupyter.widget-view+json": {
       "model_id": "e5658fe8b5454e1d8f2a013f5b9bca83",
       "version_major": 2,
       "version_minor": 0
      },
      "text/plain": [
       "A Jupyter Widget"
      ]
     },
     "metadata": {},
     "output_type": "display_data"
    },
    {
     "name": "stdout",
     "output_type": "stream",
     "text": [
      "[ 0.       0.3295   0.61446  0.6668 ]                      \n",
      "[ 1.       0.48814  0.69383  0.6707 ]                      \n",
      "[ 2.       0.55445  0.70064  0.6832 ]                      \n",
      "[ 3.       0.5845   0.73095  0.69102]                      \n",
      "[ 4.       0.60055  0.70892  0.66758]                      \n",
      "[ 5.       0.60833  0.95541  0.71758]                      \n",
      "[ 6.       0.60772  1.28306  0.69141]                      \n",
      "[ 7.       0.59131  1.13323  0.69258]                      \n",
      "[ 8.       0.60119  0.82331  0.725  ]                      \n",
      "[ 9.       0.5914   0.8233   0.72773]                      \n",
      "[ 10.        0.59486   0.76943   0.71641]                  \n",
      "[ 11.        0.59862   0.76547   0.71406]                  \n",
      "[ 12.        0.59278   0.61203   0.71992]                  \n",
      "\n"
     ]
    }
   ],
   "source": [
    "learn.set_data(get_data(sz,bs))\n",
    "learn.freeze()\n",
    "learn.fit(lr, 3, cycle_len=1, cycle_mult=3)"
   ]
  },
  {
   "cell_type": "code",
   "execution_count": 28,
   "metadata": {},
   "outputs": [
    {
     "data": {
      "application/vnd.jupyter.widget-view+json": {
       "model_id": "57bd19374af44ed69d274420e02a4858",
       "version_major": 2,
       "version_minor": 0
      },
      "text/plain": [
       "A Jupyter Widget"
      ]
     },
     "metadata": {},
     "output_type": "display_data"
    },
    {
     "name": "stdout",
     "output_type": "stream",
     "text": [
      "[ 0.       0.30443  0.59958  0.65469]                      \n",
      "[ 1.       0.43041  0.51961  0.75195]                      \n",
      "[ 2.       0.46658  0.49597  0.76562]                      \n",
      "[ 3.       0.47476  0.45826  0.75977]                      \n",
      "[ 4.       0.48968  0.42056  0.79219]                      \n",
      "[ 5.       0.4828   0.43287  0.77266]                      \n",
      "[ 6.       0.47426  0.44502  0.77305]                      \n",
      "\n"
     ]
    }
   ],
   "source": [
    "learn.unfreeze()\n",
    "learn.fit(lrs, 3, cycle_len=1, cycle_mult=2)\n",
    "learn.save(f'{sz}')\n"
   ]
  },
  {
   "cell_type": "code",
   "execution_count": 29,
   "metadata": {
    "collapsed": true
   },
   "outputs": [],
   "source": [
    "sz=32"
   ]
  },
  {
   "cell_type": "code",
   "execution_count": 30,
   "metadata": {},
   "outputs": [
    {
     "name": "stdout",
     "output_type": "stream",
     "text": [
      "100%|██████████| 35/35 [00:01<00:00, 18.78it/s]\n",
      "100%|██████████| 16/16 [00:01<00:00, 10.49it/s]\n",
      "100%|██████████| 264/264 [00:05<00:00, 48.55it/s]\n"
     ]
    },
    {
     "data": {
      "application/vnd.jupyter.widget-view+json": {
       "model_id": "633b1889192c4fca89dff8c9a8d4be34",
       "version_major": 2,
       "version_minor": 0
      },
      "text/plain": [
       "A Jupyter Widget"
      ]
     },
     "metadata": {},
     "output_type": "display_data"
    },
    {
     "name": "stdout",
     "output_type": "stream",
     "text": [
      "[ 0.       0.35424  0.69654  0.57578]                      \n",
      "[ 1.       0.51762  0.6663   0.61484]                      \n",
      "[ 2.       0.60247  0.65629  0.62852]                      \n",
      "[ 3.       0.63099  0.64053  0.64023]                      \n",
      "[ 4.       0.6513   0.64519  0.63633]                      \n",
      "[ 5.       0.64672  0.69468  0.61953]                      \n",
      "[ 6.       0.6477   0.68413  0.64297]                      \n",
      "[ 7.       0.64846  0.6334   0.65195]                      \n",
      "[ 8.       0.64665  0.64707  0.64805]                      \n",
      "[ 9.       0.63118  0.66476  0.63828]                      \n",
      "[ 10.        0.64183   0.62731   0.65625]                  \n",
      "[ 11.        0.63939   0.61464   0.65508]                  \n",
      "[ 12.        0.63601   0.62515   0.64609]                  \n",
      "\n"
     ]
    }
   ],
   "source": [
    "learn.set_data(get_data(sz,bs))\n",
    "learn.freeze()\n",
    "learn.fit(lr, 3, cycle_len=1, cycle_mult=3)"
   ]
  },
  {
   "cell_type": "code",
   "execution_count": 31,
   "metadata": {},
   "outputs": [
    {
     "data": {
      "application/vnd.jupyter.widget-view+json": {
       "model_id": "cf9e1c01920241c090874b8a2b22b1d7",
       "version_major": 2,
       "version_minor": 0
      },
      "text/plain": [
       "A Jupyter Widget"
      ]
     },
     "metadata": {},
     "output_type": "display_data"
    },
    {
     "name": "stdout",
     "output_type": "stream",
     "text": [
      "[ 0.       0.27382  0.47323  0.76406]                      \n",
      "[ 1.       0.3841   0.43076  0.75938]                      \n",
      "[ 2.       0.42506  0.4459   0.76445]                      \n",
      "[ 3.       0.42473  0.4623   0.74492]                      \n",
      "[ 4.       0.41664  0.40093  0.80742]                      \n",
      "[ 5.       0.41301  0.40502  0.78984]                      \n",
      "[ 6.       0.4288   0.40697  0.7918 ]                      \n",
      "\n"
     ]
    }
   ],
   "source": [
    "learn.unfreeze()\n",
    "learn.fit(lrs, 3, cycle_len=1, cycle_mult=2)\n",
    "learn.save(f'{sz}')"
   ]
  },
  {
   "cell_type": "code",
   "execution_count": 32,
   "metadata": {
    "collapsed": true
   },
   "outputs": [],
   "source": [
    "sz=64"
   ]
  },
  {
   "cell_type": "code",
   "execution_count": 33,
   "metadata": {},
   "outputs": [
    {
     "name": "stdout",
     "output_type": "stream",
     "text": [
      "100%|██████████| 35/35 [00:02<00:00, 16.26it/s]\n",
      "100%|██████████| 16/16 [00:01<00:00,  9.72it/s]\n",
      "100%|██████████| 264/264 [00:07<00:00, 37.57it/s]\n"
     ]
    },
    {
     "data": {
      "application/vnd.jupyter.widget-view+json": {
       "model_id": "5587ebd4b5b54c529b49583e7ba343e0",
       "version_major": 2,
       "version_minor": 0
      },
      "text/plain": [
       "A Jupyter Widget"
      ]
     },
     "metadata": {},
     "output_type": "display_data"
    },
    {
     "name": "stdout",
     "output_type": "stream",
     "text": [
      "[ 0.       0.34701  0.64718  0.62383]                      \n",
      "[ 1.       0.47917  0.56423  0.68711]                      \n",
      "[ 2.       0.55122  0.57139  0.67539]                      \n",
      "[ 3.       0.58172  0.56288  0.68516]                      \n",
      "[ 4.       0.58617  0.5514   0.69297]                      \n",
      "[ 5.       0.59384  0.54624  0.71445]                      \n",
      "[ 6.       0.58203  0.53987  0.70273]                      \n",
      "[ 7.       0.58745  0.54139  0.71055]                      \n",
      "[ 8.       0.5832   0.53671  0.70352]                      \n",
      "[ 9.       0.58269  0.53524  0.7125 ]                      \n",
      "[ 10.        0.58589   0.5293    0.70156]                  \n",
      "[ 11.        0.57071   0.52803   0.70937]                  \n",
      "[ 12.        0.56387   0.5266    0.70352]                  \n",
      "\n"
     ]
    }
   ],
   "source": [
    "learn.set_data(get_data(sz,bs))\n",
    "learn.freeze()\n",
    "learn.fit(lr, 3, cycle_len=1, cycle_mult=3)"
   ]
  },
  {
   "cell_type": "code",
   "execution_count": 34,
   "metadata": {},
   "outputs": [
    {
     "data": {
      "application/vnd.jupyter.widget-view+json": {
       "model_id": "5b87ae6138a4423faf1dfa8c498f1e56",
       "version_major": 2,
       "version_minor": 0
      },
      "text/plain": [
       "A Jupyter Widget"
      ]
     },
     "metadata": {},
     "output_type": "display_data"
    },
    {
     "name": "stdout",
     "output_type": "stream",
     "text": [
      "[ 0.       0.26997  0.45341  0.76562]                      \n",
      "[ 1.       0.37008  0.43296  0.76016]                      \n",
      "[ 2.       0.41343  0.41826  0.77773]                      \n",
      "[ 3.       0.42326  0.38782  0.80234]                      \n",
      "[ 4.       0.41379  0.36583  0.82266]                      \n",
      "[ 5.       0.40359  0.36148  0.8043 ]                      \n",
      "[ 6.       0.40812  0.40153  0.78906]                      \n",
      "\n"
     ]
    }
   ],
   "source": [
    "learn.unfreeze()\n",
    "learn.fit(lrs, 3, cycle_len=1, cycle_mult=2)\n",
    "learn.save(f'{sz}')"
   ]
  },
  {
   "cell_type": "code",
   "execution_count": 35,
   "metadata": {
    "collapsed": true
   },
   "outputs": [],
   "source": [
    "sz=75"
   ]
  },
  {
   "cell_type": "code",
   "execution_count": 36,
   "metadata": {},
   "outputs": [
    {
     "name": "stdout",
     "output_type": "stream",
     "text": [
      "100%|██████████| 35/35 [00:02<00:00, 15.50it/s]\n",
      "100%|██████████| 16/16 [00:01<00:00,  9.48it/s]\n",
      "100%|██████████| 264/264 [00:08<00:00, 31.76it/s]\n"
     ]
    },
    {
     "data": {
      "application/vnd.jupyter.widget-view+json": {
       "model_id": "1f7b3049faab4f948a516c49f5b68172",
       "version_major": 2,
       "version_minor": 0
      },
      "text/plain": [
       "A Jupyter Widget"
      ]
     },
     "metadata": {},
     "output_type": "display_data"
    },
    {
     "name": "stdout",
     "output_type": "stream",
     "text": [
      "[ 0.       0.25634  0.47455  0.7582 ]                      \n",
      "[ 1.       0.37115  0.45257  0.77227]                      \n",
      "[ 2.       0.41886  0.4592   0.77227]                      \n",
      "[ 3.       0.45144  0.44843  0.78008]                      \n",
      "[ 4.       0.44297  0.44428  0.77617]                      \n",
      "[ 5.       0.45324  0.44366  0.77227]                      \n",
      "[ 6.       0.44685  0.43397  0.76641]                      \n",
      "[ 7.       0.44732  0.43618  0.76445]                      \n",
      "[ 8.       0.43735  0.43076  0.76836]                      \n",
      "[ 9.       0.43671  0.43676  0.75859]                      \n",
      "[ 10.        0.44034   0.42506   0.77031]                  \n",
      "[ 11.        0.44392   0.43763   0.75273]                  \n",
      "[ 12.        0.43827   0.42681   0.76641]                  \n",
      "\n"
     ]
    }
   ],
   "source": [
    "learn.set_data(get_data(sz,bs))\n",
    "learn.freeze()\n",
    "learn.fit(lr, 3, cycle_len=1, cycle_mult=3)"
   ]
  },
  {
   "cell_type": "code",
   "execution_count": 37,
   "metadata": {},
   "outputs": [
    {
     "data": {
      "application/vnd.jupyter.widget-view+json": {
       "model_id": "db80ad5f47284a9980d722a0eacbcb57",
       "version_major": 2,
       "version_minor": 0
      },
      "text/plain": [
       "A Jupyter Widget"
      ]
     },
     "metadata": {},
     "output_type": "display_data"
    },
    {
     "name": "stdout",
     "output_type": "stream",
     "text": [
      "[ 0.       0.21357  0.34353  0.82383]                      \n",
      "[ 1.       0.29657  0.33216  0.83164]                      \n",
      "[ 2.       0.32194  0.33742  0.83281]                      \n",
      "[ 3.       0.34151  0.35781  0.82305]                      \n",
      "[ 4.       0.35295  0.31723  0.82773]                      \n",
      "[ 5.       0.34791  0.32989  0.82891]                      \n",
      "[ 6.       0.33659  0.32428  0.82773]                      \n",
      "\n"
     ]
    }
   ],
   "source": [
    "learn.unfreeze()\n",
    "learn.fit(lrs, 3, cycle_len=1, cycle_mult=2)\n",
    "learn.save(f'{sz}')"
   ]
  },
  {
   "cell_type": "code",
   "execution_count": 38,
   "metadata": {},
   "outputs": [
    {
     "data": {
      "text/plain": [
       "(0.872, 0.27524485795013609)"
      ]
     },
     "execution_count": 38,
     "metadata": {},
     "output_type": "execute_result"
    }
   ],
   "source": [
    "from sklearn import metrics\n",
    "\n",
    "log_preds,y = learn.TTA()\n",
    "probs = np.exp(log_preds)\n",
    "accuracy(log_preds,y), metrics.log_loss(y, probs)\n"
   ]
  },
  {
   "cell_type": "code",
   "execution_count": null,
   "metadata": {
    "collapsed": true
   },
   "outputs": [],
   "source": [
    "#for file submission\n",
    "#Actual test files are used for submission\n",
    "test_preds = learn.TTA(is_test = True)\n",
    "submission = pd.DataFrame()\n",
    "submission['id'] = test['id']\n",
    "submission['is_iceberg'] = pd.DataFrame({'is_iceberg':list(np.exp(test_preds[0][:][:,0]))})\n",
    "#print(test_preds[:,0])\n",
    "#submission['is_iceberg'] = pd.DataFrame({'is_iceberg':list(np.exp(test_preds[0][:,0]))})\n",
    "submission.to_csv('sub_10.csv', index=False)\n"
   ]
  },
  {
   "cell_type": "code",
   "execution_count": null,
   "metadata": {
    "collapsed": true
   },
   "outputs": [],
   "source": []
  }
 ],
 "metadata": {
  "kernelspec": {
   "display_name": "Python 3",
   "language": "python",
   "name": "python3"
  },
  "language_info": {
   "codemirror_mode": {
    "name": "ipython",
    "version": 3
   },
   "file_extension": ".py",
   "mimetype": "text/x-python",
   "name": "python",
   "nbconvert_exporter": "python",
   "pygments_lexer": "ipython3",
   "version": "3.6.3"
  }
 },
 "nbformat": 4,
 "nbformat_minor": 2
}
