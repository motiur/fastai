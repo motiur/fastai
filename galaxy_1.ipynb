{
 "cells": [
  {
   "cell_type": "code",
   "execution_count": 1,
   "metadata": {
    "collapsed": true
   },
   "outputs": [],
   "source": [
    "%reload_ext autoreload\n",
    "%autoreload 2\n",
    "%matplotlib inline"
   ]
  },
  {
   "cell_type": "code",
   "execution_count": 2,
   "metadata": {
    "collapsed": true
   },
   "outputs": [],
   "source": [
    "from fastai.imports import *\n",
    "from fastai.transforms import *\n",
    "from fastai.conv_learner import *\n",
    "from fastai.model import *\n",
    "from fastai.dataset import *\n",
    "from fastai.sgdr import *"
   ]
  },
  {
   "cell_type": "code",
   "execution_count": 3,
   "metadata": {
    "collapsed": true
   },
   "outputs": [],
   "source": [
    "from planet import f2\n",
    "\n",
    "metrics=[f2]\n",
    "f_model = resnet34"
   ]
  },
  {
   "cell_type": "code",
   "execution_count": 4,
   "metadata": {},
   "outputs": [
    {
     "name": "stdout",
     "output_type": "stream",
     "text": [
      "/home/ubuntu/data/galaxy\n"
     ]
    }
   ],
   "source": [
    "PATH = '/home/ubuntu/fastai/courses/dl1/data/galaxy/'\n",
    "%cd '/home/ubuntu/fastai/courses/dl1/data/galaxy/'"
   ]
  },
  {
   "cell_type": "code",
   "execution_count": 5,
   "metadata": {
    "collapsed": true
   },
   "outputs": [],
   "source": [
    "f_model = resnet34"
   ]
  },
  {
   "cell_type": "code",
   "execution_count": 6,
   "metadata": {
    "collapsed": true
   },
   "outputs": [],
   "source": [
    "df = pd.read_csv('training_solutions_rev1.csv')\n",
    "df = df.set_index('GalaxyID')\n",
    "s = np.where(df > .5, ['{} '.format(x) for x in df.columns], '')   \n",
    "df1 = pd.DataFrame({'classes': [''.join(x) for x in s],'GalaxyID': df.index})\n",
    "df1.to_csv('labels_1.csv', index = False)"
   ]
  },
  {
   "cell_type": "code",
   "execution_count": 7,
   "metadata": {
    "collapsed": true
   },
   "outputs": [],
   "source": [
    "label_csv = f'{PATH}labels_1.csv'"
   ]
  },
  {
   "cell_type": "code",
   "execution_count": 8,
   "metadata": {
    "collapsed": true
   },
   "outputs": [],
   "source": [
    "n = len(list(open(label_csv)))-1\n",
    "val_idxs = get_cv_idxs(n)"
   ]
  },
  {
   "cell_type": "code",
   "execution_count": 9,
   "metadata": {},
   "outputs": [
    {
     "data": {
      "text/plain": [
       "array([ 7523, 38598, 60084, ..., 44732, 54343, 38158])"
      ]
     },
     "execution_count": 9,
     "metadata": {},
     "output_type": "execute_result"
    }
   ],
   "source": [
    "val_idxs"
   ]
  },
  {
   "cell_type": "code",
   "execution_count": 10,
   "metadata": {},
   "outputs": [
    {
     "data": {
      "text/plain": [
       "12315"
      ]
     },
     "execution_count": 10,
     "metadata": {},
     "output_type": "execute_result"
    }
   ],
   "source": [
    "len(val_idxs)"
   ]
  },
  {
   "cell_type": "code",
   "execution_count": 11,
   "metadata": {
    "collapsed": true
   },
   "outputs": [],
   "source": [
    "def get_data(sz):\n",
    "    tfms = tfms_from_model(f_model, sz, aug_tfms=transforms_top_down, max_zoom=1.05)\n",
    "    return ImageClassifierData.from_csv(PATH, 'images_training_rev1', label_csv, tfms=tfms,\n",
    "                    suffix='.jpg', val_idxs=val_idxs, test_name='images_test_rev1')"
   ]
  },
  {
   "cell_type": "code",
   "execution_count": 12,
   "metadata": {
    "collapsed": true
   },
   "outputs": [],
   "source": [
    "data = get_data(16)"
   ]
  },
  {
   "cell_type": "code",
   "execution_count": 13,
   "metadata": {
    "collapsed": true
   },
   "outputs": [],
   "source": [
    "x,y = next(iter(data.val_dl))"
   ]
  },
  {
   "cell_type": "code",
   "execution_count": 16,
   "metadata": {},
   "outputs": [
    {
     "data": {
      "text/plain": [
       "[('Class1.1', 1.0),\n",
       " ('Class1.2', 0.0),\n",
       " ('Class1.3', 0.0),\n",
       " ('Class10.1', 0.0),\n",
       " ('Class10.2', 0.0),\n",
       " ('Class10.3', 0.0),\n",
       " ('Class11.1', 0.0),\n",
       " ('Class11.2', 0.0),\n",
       " ('Class11.3', 0.0),\n",
       " ('Class11.4', 0.0),\n",
       " ('Class11.5', 0.0),\n",
       " ('Class11.6', 0.0),\n",
       " ('Class2.1', 0.0),\n",
       " ('Class2.2', 0.0),\n",
       " ('Class3.1', 0.0),\n",
       " ('Class3.2', 0.0),\n",
       " ('Class4.1', 0.0),\n",
       " ('Class4.2', 0.0),\n",
       " ('Class5.1', 0.0),\n",
       " ('Class5.2', 0.0),\n",
       " ('Class5.3', 0.0),\n",
       " ('Class5.4', 0.0),\n",
       " ('Class6.1', 0.0),\n",
       " ('Class6.2', 1.0),\n",
       " ('Class7.1', 0.0),\n",
       " ('Class7.2', 1.0),\n",
       " ('Class7.3', 0.0),\n",
       " ('Class8.1', 0.0),\n",
       " ('Class8.2', 0.0),\n",
       " ('Class8.3', 0.0),\n",
       " ('Class8.4', 0.0),\n",
       " ('Class8.5', 0.0),\n",
       " ('Class8.6', 0.0),\n",
       " ('Class8.7', 0.0),\n",
       " ('Class9.1', 0.0),\n",
       " ('Class9.2', 0.0),\n",
       " ('Class9.3', 0.0)]"
      ]
     },
     "execution_count": 16,
     "metadata": {},
     "output_type": "execute_result"
    }
   ],
   "source": [
    "list(zip(data.classes, y[0]))"
   ]
  },
  {
   "cell_type": "code",
   "execution_count": 17,
   "metadata": {},
   "outputs": [
    {
     "data": {
      "image/png": "[encoded data removed]",
      "text/plain": [
       "<matplotlib.figure.Figure at 0x7fd0689602b0>"
      ]
     },
     "metadata": {},
     "output_type": "display_data"
    }
   ],
   "source": [
    "plt.imshow(data.val_ds.denorm(to_np(x))[0]*1.4);"
   ]
  },
  {
   "cell_type": "code",
   "execution_count": 18,
   "metadata": {
    "scrolled": true
   },
   "outputs": [
    {
     "data": {
      "application/vnd.jupyter.widget-view+json": {
       "model_id": "f3289ef82b40462584476c674363cbc0",
       "version_major": 2,
       "version_minor": 0
      },
      "text/plain": [
       "A Jupyter Widget"
      ]
     },
     "metadata": {},
     "output_type": "display_data"
    },
    {
     "name": "stdout",
     "output_type": "stream",
     "text": [
      "                                                      \n"
     ]
    }
   ],
   "source": [
    "sz = 16\n",
    "data = data.resize(int(sz*1.3), 'tmp')\n",
    "learn = ConvLearner.pretrained(f_model, data, metrics = metrics)"
   ]
  },
  {
   "cell_type": "code",
   "execution_count": 19,
   "metadata": {
    "scrolled": true
   },
   "outputs": [
    {
     "data": {
      "application/vnd.jupyter.widget-view+json": {
       "model_id": "645ab02535174d38a1366c461556d099",
       "version_major": 2,
       "version_minor": 0
      },
      "text/plain": [
       "A Jupyter Widget"
      ]
     },
     "metadata": {},
     "output_type": "display_data"
    },
    {
     "name": "stdout",
     "output_type": "stream",
     "text": [
      "[ 0.       0.1914   0.18412  0.68584]                        \n",
      "\n"
     ]
    },
    {
     "data": {
      "image/png": "[encoded data removed]",
      "text/plain": [
       "<matplotlib.figure.Figure at 0x7fd04c3bac88>"
      ]
     },
     "metadata": {},
     "output_type": "display_data"
    }
   ],
   "source": [
    "lrf=learn.lr_find()\n",
    "learn.sched.plot()"
   ]
  },
  {
   "cell_type": "code",
   "execution_count": 20,
   "metadata": {
    "collapsed": true
   },
   "outputs": [],
   "source": [
    "lr = 0.2"
   ]
  },
  {
   "cell_type": "code",
   "execution_count": 21,
   "metadata": {},
   "outputs": [
    {
     "data": {
      "application/vnd.jupyter.widget-view+json": {
       "model_id": "2c115acb89054672bea744e1e7e542b7",
       "version_major": 2,
       "version_minor": 0
      },
      "text/plain": [
       "A Jupyter Widget"
      ]
     },
     "metadata": {},
     "output_type": "display_data"
    },
    {
     "name": "stdout",
     "output_type": "stream",
     "text": [
      "[ 0.       0.16684  0.16417  0.70756]                        \n",
      "[ 1.       0.16069  0.16112  0.71233]                        \n",
      "[ 2.       0.15929  0.16193  0.7095 ]                        \n",
      "\n"
     ]
    }
   ],
   "source": [
    "learn.fit(lr, 3, cycle_len=1, cycle_mult=1)"
   ]
  },
  {
   "cell_type": "code",
   "execution_count": 22,
   "metadata": {
    "collapsed": true
   },
   "outputs": [],
   "source": [
    "lrs = np.array([lr/9,lr/3,lr])"
   ]
  },
  {
   "cell_type": "code",
   "execution_count": 23,
   "metadata": {},
   "outputs": [
    {
     "data": {
      "application/vnd.jupyter.widget-view+json": {
       "model_id": "0edc8e6fbe1a4071808ba4e539eb3308",
       "version_major": 2,
       "version_minor": 0
      },
      "text/plain": [
       "A Jupyter Widget"
      ]
     },
     "metadata": {},
     "output_type": "display_data"
    },
    {
     "name": "stdout",
     "output_type": "stream",
     "text": [
      "[ 0.       0.15349  0.15978  0.71243]                        \n",
      "[ 1.       0.15148  0.15601  0.72347]                        \n",
      "[ 2.       0.14672  0.16164  0.707  ]                        \n",
      "[ 3.       0.14713  0.1624   0.7063 ]                        \n",
      "[ 4.       0.1464   0.17556  0.67246]                        \n",
      "[ 5.       0.14182  0.16264  0.70508]                        \n",
      "[ 6.       0.14304  0.16068  0.71122]                        \n",
      "\n"
     ]
    }
   ],
   "source": [
    "learn.unfreeze()\n",
    "learn.fit(lrs, 3, cycle_len=1, cycle_mult=2)"
   ]
  },
  {
   "cell_type": "code",
   "execution_count": 24,
   "metadata": {
    "collapsed": true
   },
   "outputs": [],
   "source": [
    "learn.save(f'{sz}')"
   ]
  },
  {
   "cell_type": "code",
   "execution_count": 25,
   "metadata": {},
   "outputs": [
    {
     "data": {
      "image/png": "[encoded data removed]",
      "text/plain": [
       "<matplotlib.figure.Figure at 0x7fd069da5198>"
      ]
     },
     "metadata": {},
     "output_type": "display_data"
    }
   ],
   "source": [
    "learn.sched.plot_loss()"
   ]
  },
  {
   "cell_type": "code",
   "execution_count": 26,
   "metadata": {
    "collapsed": true
   },
   "outputs": [],
   "source": [
    "sz = 32"
   ]
  },
  {
   "cell_type": "code",
   "execution_count": 27,
   "metadata": {},
   "outputs": [
    {
     "data": {
      "application/vnd.jupyter.widget-view+json": {
       "model_id": "86010ac46794457490be68b87fb3763f",
       "version_major": 2,
       "version_minor": 0
      },
      "text/plain": [
       "A Jupyter Widget"
      ]
     },
     "metadata": {},
     "output_type": "display_data"
    },
    {
     "name": "stdout",
     "output_type": "stream",
     "text": [
      "[ 0.       0.16961  0.20458  0.61291]                        \n",
      "[ 1.       0.17023  0.20971  0.6136 ]                        \n",
      "[ 2.       0.16601  0.21369  0.60775]                        \n",
      "[ 3.       0.16667  0.21249  0.60861]                        \n",
      "[ 4.       0.16592  0.20975  0.61541]                        \n",
      "[ 5.       0.16591  0.21833  0.59964]                        \n",
      "[ 6.       0.16412  0.21995  0.59908]                        \n",
      "\n"
     ]
    }
   ],
   "source": [
    "learn.set_data(get_data(sz))\n",
    "learn.freeze()\n",
    "learn.fit(lr, 3, cycle_len=1, cycle_mult=2)"
   ]
  },
  {
   "cell_type": "code",
   "execution_count": 28,
   "metadata": {},
   "outputs": [
    {
     "data": {
      "application/vnd.jupyter.widget-view+json": {
       "model_id": "474fb6871c6442269514309cdde4427e",
       "version_major": 2,
       "version_minor": 0
      },
      "text/plain": [
       "A Jupyter Widget"
      ]
     },
     "metadata": {},
     "output_type": "display_data"
    },
    {
     "name": "stdout",
     "output_type": "stream",
     "text": [
      "[ 0.       0.1338   0.15406  0.72256]                        \n",
      "[ 1.       0.12953  0.15233  0.72876]                        \n",
      "[ 2.       0.12464  0.15114  0.72979]                        \n",
      "[ 3.       0.12787  0.14597  0.7387 ]                        \n",
      "[ 4.       0.12371  0.15099  0.7294 ]                        \n",
      "[ 5.       0.11767  0.14897  0.73362]                        \n",
      "[ 6.       0.11746  0.14777  0.73712]                        \n",
      "\n"
     ]
    }
   ],
   "source": [
    "learn.unfreeze()\n",
    "learn.fit(lrs, 3, cycle_len=1, cycle_mult=2)\n",
    "learn.save(f'{sz}')"
   ]
  },
  {
   "cell_type": "code",
   "execution_count": 29,
   "metadata": {
    "collapsed": true
   },
   "outputs": [],
   "source": [
    "sz = 64"
   ]
  },
  {
   "cell_type": "code",
   "execution_count": 30,
   "metadata": {},
   "outputs": [
    {
     "data": {
      "application/vnd.jupyter.widget-view+json": {
       "model_id": "5eb636931b9449019cebe359ae92053f",
       "version_major": 2,
       "version_minor": 0
      },
      "text/plain": [
       "A Jupyter Widget"
      ]
     },
     "metadata": {},
     "output_type": "display_data"
    },
    {
     "name": "stdout",
     "output_type": "stream",
     "text": [
      "[ 0.       0.14444  0.15846  0.71498]                        \n",
      "[ 1.       0.14243  0.15723  0.72074]                        \n",
      "[ 2.       0.13829  0.15699  0.7226 ]                        \n",
      "[ 3.       0.13934  0.15515  0.72743]                        \n",
      "[ 4.       0.13709  0.15271  0.73225]                        \n",
      "[ 5.       0.13534  0.1561   0.72505]                        \n",
      "[ 6.       0.13548  0.15337  0.7315 ]                        \n",
      "\n"
     ]
    }
   ],
   "source": [
    "learn.set_data(get_data(sz))\n",
    "learn.freeze()\n",
    "learn.fit(lr, 3, cycle_len=1, cycle_mult=2)"
   ]
  },
  {
   "cell_type": "code",
   "execution_count": 31,
   "metadata": {},
   "outputs": [
    {
     "data": {
      "application/vnd.jupyter.widget-view+json": {
       "model_id": "cb928c7090cb4677993b022a2bb192d3",
       "version_major": 2,
       "version_minor": 0
      },
      "text/plain": [
       "A Jupyter Widget"
      ]
     },
     "metadata": {},
     "output_type": "display_data"
    },
    {
     "name": "stdout",
     "output_type": "stream",
     "text": [
      "[ 0.       0.11482  0.11908  0.79833]                        \n",
      "[ 1.       0.11001  0.12419  0.77633]                        \n",
      "[ 2.       0.10677  0.12409  0.77278]                        \n",
      "[ 3.       0.10808  0.14384  0.72797]                        \n",
      "[ 4.       0.10267  0.13616  0.7429 ]                        \n",
      "[ 5.       0.10134  0.14737  0.71952]                         \n",
      "[ 6.       0.09955  0.15355  0.70445]                         \n",
      "\n"
     ]
    }
   ],
   "source": [
    "learn.unfreeze()\n",
    "learn.fit(lrs, 3, cycle_len=1, cycle_mult=2)\n",
    "learn.save(f'{sz}')"
   ]
  },
  {
   "cell_type": "code",
   "execution_count": 32,
   "metadata": {
    "collapsed": true
   },
   "outputs": [],
   "source": [
    "sz = 128"
   ]
  },
  {
   "cell_type": "code",
   "execution_count": 33,
   "metadata": {},
   "outputs": [
    {
     "data": {
      "application/vnd.jupyter.widget-view+json": {
       "model_id": "e76e37acf7704f21963a039fac5c5a54",
       "version_major": 2,
       "version_minor": 0
      },
      "text/plain": [
       "A Jupyter Widget"
      ]
     },
     "metadata": {},
     "output_type": "display_data"
    },
    {
     "name": "stdout",
     "output_type": "stream",
     "text": [
      "[ 0.       0.12101  0.27156  0.56166]                        \n",
      "[ 1.       0.11557  0.23244  0.59129]                        \n",
      "[ 2.       0.11538  0.23658  0.58632]                        \n",
      "[ 3.       0.11543  0.23454  0.58877]                        \n",
      "[ 4.       0.11259  0.22171  0.60451]                        \n",
      "[ 5.       0.11165  0.21391  0.61111]                        \n",
      "[ 6.       0.11235  0.21936  0.60609]                        \n",
      "\n"
     ]
    }
   ],
   "source": [
    "learn.set_data(get_data(sz))\n",
    "learn.freeze()\n",
    "learn.fit(lr, 3, cycle_len=1, cycle_mult=2)"
   ]
  },
  {
   "cell_type": "code",
   "execution_count": 34,
   "metadata": {},
   "outputs": [
    {
     "data": {
      "application/vnd.jupyter.widget-view+json": {
       "model_id": "e479135ff82a4d0aa394ed61aaa4d00d",
       "version_major": 2,
       "version_minor": 0
      },
      "text/plain": [
       "A Jupyter Widget"
      ]
     },
     "metadata": {},
     "output_type": "display_data"
    },
    {
     "name": "stdout",
     "output_type": "stream",
     "text": [
      "[ 0.       0.09995  0.11964  0.78334]                         \n",
      "[ 1.       0.09689  0.12285  0.76779]                         \n",
      "[ 2.       0.09094  0.12349  0.76474]                         \n",
      "[ 3.       0.09713  0.12122  0.77161]                         \n",
      "[ 4.       0.09117  0.12021  0.76937]                         \n",
      "[ 5.       0.08837  0.1254   0.759  ]                         \n",
      "[ 6.       0.08699  0.12635  0.75791]                         \n",
      "\n"
     ]
    }
   ],
   "source": [
    "learn.unfreeze()\n",
    "learn.fit(lrs, 3, cycle_len=1, cycle_mult=2)\n",
    "learn.save(f'{sz}')"
   ]
  },
  {
   "cell_type": "code",
   "execution_count": 35,
   "metadata": {},
   "outputs": [
    {
     "name": "stdout",
     "output_type": "stream",
     "text": [
      "                                             \r"
     ]
    }
   ],
   "source": [
    "tta = learn.TTA()"
   ]
  },
  {
   "cell_type": "code",
   "execution_count": 36,
   "metadata": {},
   "outputs": [
    {
     "data": {
      "text/plain": [
       "0.85636038687506066"
      ]
     },
     "execution_count": 36,
     "metadata": {},
     "output_type": "execute_result"
    }
   ],
   "source": [
    "f2(*tta)"
   ]
  },
  {
   "cell_type": "code",
   "execution_count": null,
   "metadata": {
    "collapsed": true
   },
   "outputs": [],
   "source": []
  }
 ],
 "metadata": {
  "kernelspec": {
   "display_name": "Python 3",
   "language": "python",
   "name": "python3"
  },
  "language_info": {
   "codemirror_mode": {
    "name": "ipython",
    "version": 3
   },
   "file_extension": ".py",
   "mimetype": "text/x-python",
   "name": "python",
   "nbconvert_exporter": "python",
   "pygments_lexer": "ipython3",
   "version": "3.6.3"
  }
 },
 "nbformat": 4,
 "nbformat_minor": 2
}
